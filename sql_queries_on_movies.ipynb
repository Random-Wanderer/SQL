{
 "cells": [
  {
   "cell_type": "markdown",
   "id": "a613ecb1",
   "metadata": {},
   "source": [
    "# SQL queries of Movies database"
   ]
  },
  {
   "cell_type": "code",
   "execution_count": 2,
   "id": "9a4da9b1",
   "metadata": {},
   "outputs": [],
   "source": [
    "# Import sql3 library\n",
    "import sqlite3"
   ]
  },
  {
   "cell_type": "code",
   "execution_count": 3,
   "id": "4f72f5cf",
   "metadata": {},
   "outputs": [],
   "source": [
    "# Create connection to sqlite database\n",
    "conn = sqlite3.connect('data/movies.sqlite')\n",
    "db = conn.cursor()"
   ]
  },
  {
   "cell_type": "code",
   "execution_count": 4,
   "id": "5ba12e9e",
   "metadata": {},
   "outputs": [],
   "source": [
    "# Columns 'title', 'rating', 'vote_count', 'start_year', 'minutes', 'genres', 'imdb_id', 'id', 'director_id'"
   ]
  },
  {
   "cell_type": "code",
   "execution_count": 30,
   "id": "a630986b",
   "metadata": {
    "scrolled": false
   },
   "outputs": [
    {
     "name": "stdout",
     "output_type": "stream",
     "text": [
      "[('A Trip to the Moon', '8.2', 39710, 1902, 13, 'Action,Adventure,Comedy', 'tt0000417', 1, 1), ('The Great Train Robbery', '7.3', 15526, 1903, 11, 'Action,Crime,Short', 'tt0000439', 2, 2), ('The Birth of a Nation', '6.4', 20774, 1915, 195, 'Drama,History,War', 'tt0004972', 3, 4), (\"Intolerance: Love's Struggle Throughout the Ages\", '7.8', 13051, 1916, 163, 'Drama,History', 'tt0006864', 4, 4), ('The Cabinet of Dr. Caligari', '8.1', 51029, 1920, 76, 'Fantasy,Horror,Mystery', 'tt0010323', 5, 5)]\n"
     ]
    }
   ],
   "source": [
    "# Show everything for first 5 movies\n",
    "db.execute(\"\"\"SELECT * \n",
    "              FROM movies\n",
    "              LIMIT 5;\"\"\")\n",
    "rows = db.fetchall()\n",
    "print(rows)"
   ]
  },
  {
   "cell_type": "code",
   "execution_count": 7,
   "id": "47c6375f",
   "metadata": {},
   "outputs": [
    {
     "name": "stdout",
     "output_type": "stream",
     "text": [
      "[(9875,)]\n"
     ]
    }
   ],
   "source": [
    "# How many movies?\n",
    "db.execute(\"\"\"SELECT COUNT(*)\n",
    "              FROM movies;\"\"\")\n",
    "rows = db.fetchall()\n",
    "print(rows)"
   ]
  },
  {
   "cell_type": "code",
   "execution_count": 8,
   "id": "13218a7b",
   "metadata": {},
   "outputs": [
    {
     "name": "stdout",
     "output_type": "stream",
     "text": [
      "[(1902, 2019)]\n"
     ]
    }
   ],
   "source": [
    "# First and most recent by year\n",
    "db.execute(\"\"\"SELECT MIN(start_year), MAX(start_year)\n",
    "              FROM movies;\"\"\")\n",
    "rows = db.fetchall()\n",
    "print(rows)"
   ]
  },
  {
   "cell_type": "code",
   "execution_count": 9,
   "id": "41c9160c",
   "metadata": {},
   "outputs": [
    {
     "name": "stdout",
     "output_type": "stream",
     "text": [
      "[('Cumali Ceber: Allah Seni Alsin', '1.0')]\n"
     ]
    }
   ],
   "source": [
    "# Worst rating\n",
    "db.execute(\"\"\"SELECT title, MIN(rating)\n",
    "              FROM movies;\"\"\")\n",
    "rows = db.fetchall()\n",
    "print(rows)"
   ]
  },
  {
   "cell_type": "code",
   "execution_count": 10,
   "id": "d24f6ad6",
   "metadata": {},
   "outputs": [
    {
     "name": "stdout",
     "output_type": "stream",
     "text": [
      "[('The Rains of Castamere', '9.9')]\n"
     ]
    }
   ],
   "source": [
    "# Best rating\n",
    "db.execute(\"\"\"SELECT title, MAX(rating)\n",
    "              FROM movies;\"\"\")\n",
    "rows = db.fetchall()\n",
    "print(rows)"
   ]
  },
  {
   "cell_type": "code",
   "execution_count": 11,
   "id": "7b5d995b",
   "metadata": {},
   "outputs": [
    {
     "name": "stdout",
     "output_type": "stream",
     "text": [
      "[(205,)]\n"
     ]
    }
   ],
   "source": [
    "# Movies with rating > 9.0\n",
    "db.execute(\"\"\"SELECT COUNT(*)\n",
    "              FROM movies\n",
    "              WHERE rating > 9;\"\"\")\n",
    "rows = db.fetchall()\n",
    "print(rows)"
   ]
  },
  {
   "cell_type": "code",
   "execution_count": 12,
   "id": "b5b9af82",
   "metadata": {},
   "outputs": [
    {
     "name": "stdout",
     "output_type": "stream",
     "text": [
      "[('Turks in Space', 110), ('Justin Bieber: Never Say Never', 105), ('Birdemic: Shock and Terror', 105), ('Code Name: K.O.Z.', 114), ('Reis', 108)]\n"
     ]
    }
   ],
   "source": [
    "# Movies longer then 100min and rating < 2\n",
    "db.execute(\"\"\"SELECT title, minutes\n",
    "              FROM movies\n",
    "              WHERE minutes > 100\n",
    "              AND rating < 2;\"\"\")\n",
    "rows = db.fetchall()\n",
    "print(rows)"
   ]
  },
  {
   "cell_type": "code",
   "execution_count": 13,
   "id": "66e41639",
   "metadata": {},
   "outputs": [
    {
     "name": "stdout",
     "output_type": "stream",
     "text": [
      "[(6.8710278481012415, 102.07481195364912)]\n"
     ]
    }
   ],
   "source": [
    "# AVG rating and minutes\n",
    "db.execute(\"\"\"SELECT AVG(rating), AVG(minutes)\n",
    "              FROM movies;\"\"\")\n",
    "rows = db.fetchall()\n",
    "print(rows)"
   ]
  },
  {
   "cell_type": "code",
   "execution_count": 14,
   "id": "8f1ec743",
   "metadata": {},
   "outputs": [
    {
     "name": "stdout",
     "output_type": "stream",
     "text": [
      "[('Action', 6), ('Action,Adventure', 14), ('Action,Adventure,Animation', 155), ('Action,Adventure,Biography', 13), ('Action,Adventure,Comedy', 153), ('Action,Adventure,Crime', 53), ('Action,Adventure,Documentary', 1), ('Action,Adventure,Drama', 205), ('Action,Adventure,Family', 22), ('Action,Adventure,Fantasy', 97)]\n"
     ]
    }
   ],
   "source": [
    "# How many for each genre first 10\n",
    "db.execute(\"\"\"SELECT genres, COUNT(*)\n",
    "              FROM movies\n",
    "              GROUP BY genres\n",
    "              LIMIT 10;\"\"\")\n",
    "rows = db.fetchall()\n",
    "print(rows)"
   ]
  },
  {
   "cell_type": "code",
   "execution_count": 17,
   "id": "f5c76be7",
   "metadata": {},
   "outputs": [
    {
     "name": "stdout",
     "output_type": "stream",
     "text": [
      "[(1, 13), (2, 11), (4, 358), (5, 76), (13, 795), (14, 91), (18, 372), (19, 74), (21, 112), (22, 75)]\n"
     ]
    }
   ],
   "source": [
    "# Common table expression showing the director number and the amount of minutes the have produced, first 10\n",
    "db.execute(\"\"\"WITH short AS(SELECT director_id, SUM(minutes) AS total_director_time\n",
    "                            FROM movies\n",
    "                            GROUP BY director_id)\n",
    "\n",
    "              SELECT director_id, total_director_time\n",
    "              FROM short\n",
    "              LIMIT 10;\"\"\")\n",
    "rows = db.fetchall()\n",
    "print(rows)"
   ]
  },
  {
   "cell_type": "code",
   "execution_count": 18,
   "id": "fac2d0e8",
   "metadata": {},
   "outputs": [
    {
     "name": "stdout",
     "output_type": "stream",
     "text": [
      "[('Action', 52313), ('Action,Adventure', 52313), ('Action,Adventure,Animation', 52313), ('Action,Adventure,Biography', 52313), ('Action,Adventure,Comedy', 52313), ('Action,Adventure,Crime', 52313), ('Action,Adventure,Documentary', 52313), ('Action,Adventure,Drama', 52313), ('Action,Adventure,Family', 52313), ('Action,Adventure,Fantasy', 52313)]\n"
     ]
    }
   ],
   "source": [
    "# Window function showing total minutes for each genre, first 10\n",
    "db.execute(\"\"\"SELECT genres, SUM(minutes) OVER()\n",
    "              FROM movies\\\n",
    "              GROUP BY genres\n",
    "              LIMIT 10;\"\"\")\n",
    "rows = db.fetchall()\n",
    "print(rows)"
   ]
  },
  {
   "cell_type": "code",
   "execution_count": 19,
   "id": "3cd37c7f",
   "metadata": {},
   "outputs": [
    {
     "name": "stdout",
     "output_type": "stream",
     "text": [
      "[('A Trip to the Moon', '8.2', 1902), ('The Great Train Robbery', '7.3', 1903), ('The Birth of a Nation', '6.4', 1915), (\"Intolerance: Love's Struggle Throughout the Ages\", '7.8', 1916), ('The Cabinet of Dr. Caligari', '8.1', 1920), ('The Kid', '8.3', 1921), ('Nosferatu', '7.9', 1922), ('Safety Last!', '8.1', 1923), ('Sherlock Jr.', '8.2', 1924), ('The Gold Rush', '8.2', 1925)]\n"
     ]
    }
   ],
   "source": [
    "# Get the best movie by year, first 10\n",
    "db.execute(\"\"\"SELECT title, MAX(rating), start_year\n",
    "              FROM movies\n",
    "              GROUP BY start_year\n",
    "              ORDER BY start_year\n",
    "              LIMIT 10;\"\"\")\n",
    "rows = db.fetchall()\n",
    "print(rows)"
   ]
  },
  {
   "cell_type": "code",
   "execution_count": 20,
   "id": "cac0bb18",
   "metadata": {},
   "outputs": [
    {
     "name": "stdout",
     "output_type": "stream",
     "text": [
      "[('The Twilight Zone', 51, 'Medium length movie'), ('The Godfather', 175, 'Long movie'), ('The Godfather: Part II', 202, 'Long movie'), ('The Godfather Trilogy: 1901-1980', 583, 'Long movie'), ('The World at War', 52, 'Medium length movie'), ('The Marathon Family', 92, 'Long movie'), ('Breaking Bad', 49, 'Medium length movie'), ('Cosmos', 60, 'Medium length movie'), ('Dekalog', 572, 'Long movie'), ('The Civil War', 680, 'Long movie')]\n"
     ]
    }
   ],
   "source": [
    "# Case statement on movie length, first 10\n",
    "db.execute(\"\"\"SELECT title, minutes,\n",
    "              CASE\n",
    "                  WHEN minutes < 30 THEN 'Short movie'\n",
    "                  WHEN minutes > 90 THEN 'Long movie'\n",
    "                  ELSE 'Medium length movie'\n",
    "              END time_frame\n",
    "              FROM movies\n",
    "              WHERE rating > 9\n",
    "              LIMIT 10;\"\"\")\n",
    "rows = db.fetchall()\n",
    "print(rows)"
   ]
  },
  {
   "cell_type": "code",
   "execution_count": 29,
   "id": "1c4742fd",
   "metadata": {},
   "outputs": [
    {
     "name": "stdout",
     "output_type": "stream",
     "text": [
      "[('The Lord of the Rings', '6.2', 27903, 1978, 132, 'Adventure,Animation,Fantasy', 'tt0077869', 1087, 1088)]\n"
     ]
    }
   ],
   "source": [
    "# Find specific movie\n",
    "db.execute(\"\"\"SELECT *\n",
    "              FROM movies\n",
    "              WHERE title LIKE 'The Lord of the Rings';\"\"\")\n",
    "rows = db.fetchall()\n",
    "print(rows)"
   ]
  },
  {
   "cell_type": "code",
   "execution_count": null,
   "id": "e172108c",
   "metadata": {},
   "outputs": [],
   "source": []
  }
 ],
 "metadata": {
  "kernelspec": {
   "display_name": "Python 3 (ipykernel)",
   "language": "python",
   "name": "python3"
  },
  "language_info": {
   "codemirror_mode": {
    "name": "ipython",
    "version": 3
   },
   "file_extension": ".py",
   "mimetype": "text/x-python",
   "name": "python",
   "nbconvert_exporter": "python",
   "pygments_lexer": "ipython3",
   "version": "3.8.12"
  },
  "toc": {
   "base_numbering": 1,
   "nav_menu": {},
   "number_sections": true,
   "sideBar": true,
   "skip_h1_title": false,
   "title_cell": "Table of Contents",
   "title_sidebar": "Contents",
   "toc_cell": false,
   "toc_position": {},
   "toc_section_display": true,
   "toc_window_display": true
  }
 },
 "nbformat": 4,
 "nbformat_minor": 5
}
