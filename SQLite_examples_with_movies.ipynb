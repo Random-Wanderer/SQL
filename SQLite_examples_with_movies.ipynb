{
 "cells": [
  {
   "cell_type": "markdown",
   "id": "3d1c7c1f",
   "metadata": {},
   "source": [
    "# All queries were done in Dbeaver"
   ]
  },
  {
   "cell_type": "markdown",
   "id": "77145c9c",
   "metadata": {},
   "source": [
    "## Databases"
   ]
  },
  {
   "cell_type": "markdown",
   "id": "2916858d",
   "metadata": {},
   "source": [
    "Get everything from the first ten lines.\n",
    "\n",
    "SELECT *\n",
    "FROM movies\n",
    "LIMIT 10;"
   ]
  },
  {
   "cell_type": "markdown",
   "id": "d5130e6d",
   "metadata": {},
   "source": [
    "|title                                           |rating|vote_count|start_year|minutes|genres                 |imdb_id  |id |director_id|\n",
    "|------------------------------------------------|------|----------|----------|-------|-----------------------|---------|---|-----------|\n",
    "|A Trip to the Moon                              |8.2   |39710     |1902      |13     |Action,Adventure,Comedy|tt0000417|1  |1          |\n",
    "|The Great Train Robbery                         |7.3   |15526     |1903      |11     |Action,Crime,Short     |tt0000439|2  |2          |\n",
    "|Intolerance: Love's Struggle Throughout the Ages|7.8   |13051     |1916      |163    |Drama,History          |tt0006864|4  |4          |\n",
    "|The Cabinet of Dr. Caligari                     |8.1   |51029     |1920      |76     |Fantasy,Horror,Mystery |tt0010323|5  |5          |\n",
    "|The Kid                                         |8.3   |100448    |1921      |68     |Comedy,Drama,Family    |tt0012349|6  |13         |\n",
    "|The Gold Rush                                   |8.2   |91289     |1925      |95     |Adventure,Comedy,Drama |tt0015864|7  |13         |\n",
    "|The Circus                                      |8.2   |23402     |1928      |72     |Comedy,Romance         |tt0018773|8  |13         |\n",
    "|City Lights                                     |8.5   |151274    |1931      |87     |Comedy,Drama,Romance   |tt0021749|9  |13         |\n",
    "|Modern Times                                    |8.5   |195831    |1936      |87     |Comedy,Drama,Family    |tt0027977|10 |13         |\n",
    "|The Great Dictator                              |8.5   |185034    |1940      |125    |Comedy,Drama,War       |tt0032553|11 |13         |\n"
   ]
  },
  {
   "cell_type": "code",
   "execution_count": null,
   "id": "0397b5a0",
   "metadata": {},
   "outputs": [],
   "source": []
  }
 ],
 "metadata": {
  "kernelspec": {
   "display_name": "Python 3 (ipykernel)",
   "language": "python",
   "name": "python3"
  },
  "language_info": {
   "codemirror_mode": {
    "name": "ipython",
    "version": 3
   },
   "file_extension": ".py",
   "mimetype": "text/x-python",
   "name": "python",
   "nbconvert_exporter": "python",
   "pygments_lexer": "ipython3",
   "version": "3.8.12"
  },
  "toc": {
   "base_numbering": 1,
   "nav_menu": {},
   "number_sections": true,
   "sideBar": true,
   "skip_h1_title": false,
   "title_cell": "Table of Contents",
   "title_sidebar": "Contents",
   "toc_cell": false,
   "toc_position": {},
   "toc_section_display": true,
   "toc_window_display": true
  }
 },
 "nbformat": 4,
 "nbformat_minor": 5
}
