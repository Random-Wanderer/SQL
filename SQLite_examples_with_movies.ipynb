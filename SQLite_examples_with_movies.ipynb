{
 "cells": [
  {
   "cell_type": "markdown",
   "id": "3111e86c",
   "metadata": {},
   "source": [
    "# All queries were done in Dbeaver"
   ]
  },
  {
   "cell_type": "markdown",
   "id": "186df3ea",
   "metadata": {},
   "source": [
    "## Databases"
   ]
  },
  {
   "cell_type": "code",
   "execution_count": null,
   "id": "72e07e53",
   "metadata": {},
   "outputs": [],
   "source": [
    "# Get everything from the first ten lines of movies.db.\n",
    "\n",
    "SELECT *\n",
    "FROM movies\n",
    "LIMIT 10;"
   ]
  },
  {
   "cell_type": "markdown",
   "id": "909b62e5",
   "metadata": {},
   "source": [
    "|title                                           |rating|vote_count|start_year|minutes|genres                 |imdb_id  |id |director_id|\n",
    "|------------------------------------------------|------|----------|----------|-------|-----------------------|---------|---|-----------|\n",
    "|A Trip to the Moon                              |8.2   |39710     |1902      |13     |Action,Adventure,Comedy|tt0000417|1  |1          |\n",
    "|The Great Train Robbery                         |7.3   |15526     |1903      |11     |Action,Crime,Short     |tt0000439|2  |2          |\n",
    "|Intolerance: Love's Struggle Throughout the Ages|7.8   |13051     |1916      |163    |Drama,History          |tt0006864|4  |4          |\n",
    "|The Cabinet of Dr. Caligari                     |8.1   |51029     |1920      |76     |Fantasy,Horror,Mystery |tt0010323|5  |5          |\n",
    "|The Kid                                         |8.3   |100448    |1921      |68     |Comedy,Drama,Family    |tt0012349|6  |13         |\n",
    "|The Gold Rush                                   |8.2   |91289     |1925      |95     |Adventure,Comedy,Drama |tt0015864|7  |13         |\n",
    "|The Circus                                      |8.2   |23402     |1928      |72     |Comedy,Romance         |tt0018773|8  |13         |\n",
    "|City Lights                                     |8.5   |151274    |1931      |87     |Comedy,Drama,Romance   |tt0021749|9  |13         |\n",
    "|Modern Times                                    |8.5   |195831    |1936      |87     |Comedy,Drama,Family    |tt0027977|10 |13         |\n",
    "|The Great Dictator                              |8.5   |185034    |1940      |125    |Comedy,Drama,War       |tt0032553|11 |13         |\n"
   ]
  },
  {
   "cell_type": "code",
   "execution_count": null,
   "id": "35b03b12",
   "metadata": {},
   "outputs": [],
   "source": [
    "# Get all data from first ten lines of directors.db.\n",
    "\n",
    "SELECT *\n",
    "FROM directors\n",
    "LIMIT 10;"
   ]
  },
  {
   "cell_type": "markdown",
   "id": "11e957b0",
   "metadata": {},
   "source": [
    "|name                |birth_year|death_year|imdb_director_id|id |\n",
    "|--------------------|----------|----------|----------------|---|\n",
    "|Georges Méliès      |1861      |1938      |nm0617588       |1  |\n",
    "|Edwin S. Porter     |1870      |1941      |nm0692105       |2  |\n",
    "|D.W. Griffith       |1875      |1948      |nm0000428       |4  |\n",
    "|Robert Wiene        |1873      |1938      |nm0927468       |5  |\n",
    "|Charles Chaplin     |1889      |1977      |nm0000122       |13 |\n",
    "|Benjamin Christensen|1879      |1959      |nm0159725       |14 |\n",
    "|F.W. Murnau         |1888      |1931      |nm0003638       |18 |\n",
    "|Fred C. Newmeyer    |1888      |1967      |nm0628345       |19 |\n",
    "|Buster Keaton       |1895      |1966      |nm0000036       |21 |\n",
    "|Sergei M. Eisenstein|1898      |1948      |nm0001178       |22 |\n"
   ]
  },
  {
   "cell_type": "markdown",
   "id": "df329701",
   "metadata": {},
   "source": [
    "# Queries"
   ]
  },
  {
   "cell_type": "code",
   "execution_count": null,
   "id": "3442c898",
   "metadata": {},
   "outputs": [],
   "source": [
    "# Match the first 10 movies to their directors\n",
    "\n",
    "SELECT d.name, m.title\n",
    "FROM directors d\n",
    "JOIN movies m ON m.director_id = d.id\n",
    "LIMIT 10;\n",
    "\n",
    "# Selected names and titles from directors and the movie db joined to the director db\n",
    "# based on the director id."
   ]
  },
  {
   "cell_type": "markdown",
   "id": "32442ad0",
   "metadata": {},
   "source": [
    "\n",
    "|name           |title                                           |\n",
    "|---------------|------------------------------------------------|\n",
    "|Georges Méliès |A Trip to the Moon                              |\n",
    "|Edwin S. Porter|The Great Train Robbery                         |\n",
    "|D.W. Griffith  |Intolerance: Love's Struggle Throughout the Ages|\n",
    "|Robert Wiene   |The Cabinet of Dr. Caligari                     |\n",
    "|Charles Chaplin|The Kid                                         |\n",
    "|Charles Chaplin|The Gold Rush                                   |\n",
    "|Charles Chaplin|The Circus                                      |\n",
    "|Charles Chaplin|City Lights                                     |\n",
    "|Charles Chaplin|Modern Times                                    |\n",
    "|Charles Chaplin|The Great Dictator                              |\n"
   ]
  },
  {
   "cell_type": "code",
   "execution_count": null,
   "id": "8be45f64",
   "metadata": {},
   "outputs": [],
   "source": [
    "# How many movies did Charles Chaplin direct?\n",
    "\n",
    "SELECT  COUNT(m.title) AS num_of_movies\n",
    "FROM movies m\n",
    "JOIN directors d ON d.id = m.director_id\n",
    "WHERE d.name = 'Charles Chaplin';\n",
    "\n",
    "# Use the built in COUNT() on the title column from movies, that had been joined to directors\n",
    "# and filter so the name given returns with all movies in the data base."
   ]
  },
  {
   "cell_type": "markdown",
   "id": "39da2a73",
   "metadata": {},
   "source": [
    "|num_of_movies|\n",
    "|-------------|\n",
    "|8            |\n"
   ]
  },
  {
   "cell_type": "code",
   "execution_count": null,
   "id": "9283367a",
   "metadata": {},
   "outputs": [],
   "source": [
    "# How many people's names begin with the letter S?\n",
    "\n",
    "SELECT COUNT(d.name) AS names_start_with_s\n",
    "FROM directors d \n",
    "WHERE d.name LIKE 'S%';\n",
    "\n",
    "# Count the number of names selected from directors where the name starts with a letter\n",
    "# like \"S\"."
   ]
  },
  {
   "cell_type": "markdown",
   "id": "2f0f5222",
   "metadata": {},
   "source": [
    "|names_start_with_s|\n",
    "|------------------|\n",
    "|335               |\n"
   ]
  },
  {
   "cell_type": "code",
   "execution_count": null,
   "id": "80a24905",
   "metadata": {},
   "outputs": [],
   "source": [
    "# What movie is the longest?\n",
    "\n",
    "SELECT m.title, MAX(m.minutes) AS longest\n",
    "FROM movies m; \n",
    "\n",
    "# Get title name and use built in MAX() to get longest film from movies"
   ]
  },
  {
   "cell_type": "markdown",
   "id": "8588bcd3",
   "metadata": {},
   "source": [
    "|title          |minutes|\n",
    "|---------------|-------|\n",
    "|The Vietnam War|990    |\n"
   ]
  },
  {
   "cell_type": "code",
   "execution_count": null,
   "id": "979247fd",
   "metadata": {},
   "outputs": [],
   "source": [
    "# How many movies were released in the years 1963 and 1977?\n",
    "\n",
    "SELECT COUNT(m.title) AS total_releases\n",
    "FROM movies m \n",
    "WHERE m.start_year IN (1963, 1977);\n",
    "\n",
    "# Use COUNT() on the movie titles "
   ]
  },
  {
   "cell_type": "markdown",
   "id": "1d4d6e9c",
   "metadata": {},
   "source": [
    "|total_releases|\n",
    "|--------------|\n",
    "|67            |"
   ]
  },
  {
   "cell_type": "code",
   "execution_count": null,
   "id": "adaa66d0",
   "metadata": {},
   "outputs": [],
   "source": [
    "# What is the average rating of all films between 1970 and 1990?\n",
    "\n",
    "SELECT AVG(m.rating) AS ave_rating\n",
    "FROM movies m \n",
    "WHERE m.start_year BETWEEN 1970 AND 1990;\n",
    "\n",
    "# Take the average AVG() of rating from movies then set the time frame BETWEEN 1970 and 1990."
   ]
  },
  {
   "cell_type": "markdown",
   "id": "2ac5b1cc",
   "metadata": {},
   "source": [
    "|ave_rating      |\n",
    "|----------------|\n",
    "|7.01373322809787|\n"
   ]
  },
  {
   "cell_type": "code",
   "execution_count": null,
   "id": "adebac81",
   "metadata": {},
   "outputs": [],
   "source": [
    "# What is the average year of a directors first movie?\n",
    "\n",
    "SELECT d.name, m.start_year - d.birth_year AS age_of_first_movie\n",
    "FROM movies m\n",
    "JOIN directors d ON d.id = m.director_id\n",
    "LIMIT 5;\n",
    "\n",
    "# Subtract the year the director was born from the year of their first film by joining the\n",
    "# two databases on the directors id and only Return the first five."
   ]
  },
  {
   "cell_type": "markdown",
   "id": "b1f70737",
   "metadata": {},
   "source": [
    "|name           |age_of_first_movie|\n",
    "|---------------|------------------|\n",
    "|Georges Méliès |41                |\n",
    "|Edwin S. Porter|33                |\n",
    "|D.W. Griffith  |41                |\n",
    "|Robert Wiene   |47                |\n",
    "|Charles Chaplin|32                |\n"
   ]
  },
  {
   "cell_type": "code",
   "execution_count": 9,
   "id": "6f318e4c",
   "metadata": {},
   "outputs": [],
   "source": [
    "# Return a list of all directors and their film(s) with a rating over 9.0.\n",
    "\n",
    "SELECT d.name, m.title, m.rating\n",
    "FROM movies m \n",
    "JOIN directors d ON d.id = m.director_id \n",
    "GROUP BY m.rating \n",
    "HAVING m.rating > 9.0;\n",
    "\n",
    "# Select the director name from directors and movie name from movies, join them on \n",
    "# director_id and id, group them and filter them so that only movies and the directors with\n",
    "# a rating greater then 9.0 is returned."
   ]
  },
  {
   "cell_type": "markdown",
   "id": "fbe404dc",
   "metadata": {},
   "source": [
    "|name                |title                           |rating|\n",
    "|--------------------|--------------------------------|------|\n",
    "|Ken Burns           |The Vietnam War                 |9.1   |\n",
    "|Francis Ford Coppola|The Godfather                   |9.2   |\n",
    "|Francis Ford Coppola|The Godfather Trilogy: 1901-1980|9.3   |\n",
    "|David Nutter        |Game of Thrones                 |9.4   |\n",
    "|Peter Medak         |Breaking Bad                    |9.5   |\n",
    "|Wesley Archer       |The Rickshank Rickdemption      |9.6   |\n",
    "|Jack Bender         |The Door                        |9.7   |\n",
    "|Hettie Macdonald    |Blink                           |9.8   |\n",
    "|David Nutter        |The Rains of Castamere          |9.9   |\n"
   ]
  },
  {
   "cell_type": "markdown",
   "id": "436819a2",
   "metadata": {},
   "source": [
    "# CASE and JOIN(s)"
   ]
  },
  {
   "cell_type": "code",
   "execution_count": 1,
   "id": "b97de056",
   "metadata": {
    "collapsed": true
   },
   "outputs": [
    {
     "ename": "SyntaxError",
     "evalue": "invalid syntax (3433321661.py, line 3)",
     "output_type": "error",
     "traceback": [
      "\u001b[0;36m  File \u001b[0;32m\"/var/folders/6m/l_6hwmnj0b38jrpbz5vth_hm0000gn/T/ipykernel_36200/3433321661.py\"\u001b[0;36m, line \u001b[0;32m3\u001b[0m\n\u001b[0;31m    SELECT m.title, m.rating,\u001b[0m\n\u001b[0m           ^\u001b[0m\n\u001b[0;31mSyntaxError\u001b[0m\u001b[0;31m:\u001b[0m invalid syntax\n"
     ]
    }
   ],
   "source": [
    "# Write out opinion of movies in 2000 by giving them 'Good', 'Ok', and 'Bad'.\n",
    "\n",
    "SELECT m.title, m.rating, \n",
    "\tCASE WHEN m.rating > 8.0 THEN 'Good movie'\n",
    "\t\tWHEN m.rating > 5.0 THEN 'Ok movie'\n",
    "\t\tELSE 'Bad movie' END \n",
    "\t\tAS 'Movie_opinion_2000'\n",
    "FROM movies m \n",
    "WHERE m.start_year = 2000\n",
    "LIMIT 10;\n",
    "\n",
    "# From the movies data return the tile and rating of the movie. They will be seperated into \n",
    "# three new opinions in a new column by using multiple WHEN statements inside of a \n",
    "# CASE statement."
   ]
  },
  {
   "cell_type": "markdown",
   "id": "9a90ca87",
   "metadata": {},
   "source": [
    "|title                   |rating|Movie_opinion_2000|\n",
    "|------------------------|------|------------------|\n",
    "|Reindeer Games          |5.8   |Ok movie          |\n",
    "|The Next Best Thing     |4.6   |Bad movie         |\n",
    "|Small Time Crooks       |6.7   |Ok movie          |\n",
    "|Dr. T & the Women       |4.6   |Bad movie         |\n",
    "|Rules of Engagement     |6.4   |Ok movie          |\n",
    "|Space Cowboys           |6.4   |Ok movie          |\n",
    "|Scream 3                |5.5   |Ok movie          |\n",
    "|Cecil B. DeMented       |6.2   |Ok movie          |\n",
    "|Mission to Mars         |5.7   |Ok movie          |\n",
    "|The Million Dollar Hotel|5.9   |Ok movie          |\n"
   ]
  },
  {
   "cell_type": "code",
   "execution_count": 1,
   "id": "2402874e",
   "metadata": {},
   "outputs": [],
   "source": []
  },
  {
   "cell_type": "code",
   "execution_count": null,
   "id": "558ad6dc",
   "metadata": {},
   "outputs": [],
   "source": []
  }
 ],
 "metadata": {
  "kernelspec": {
   "display_name": "Python 3 (ipykernel)",
   "language": "python",
   "name": "python3"
  },
  "language_info": {
   "codemirror_mode": {
    "name": "ipython",
    "version": 3
   },
   "file_extension": ".py",
   "mimetype": "text/x-python",
   "name": "python",
   "nbconvert_exporter": "python",
   "pygments_lexer": "ipython3",
   "version": "3.8.12"
  },
  "toc": {
   "base_numbering": 1,
   "nav_menu": {},
   "number_sections": true,
   "sideBar": true,
   "skip_h1_title": false,
   "title_cell": "Table of Contents",
   "title_sidebar": "Contents",
   "toc_cell": false,
   "toc_position": {},
   "toc_section_display": true,
   "toc_window_display": true
  }
 },
 "nbformat": 4,
 "nbformat_minor": 5
}
