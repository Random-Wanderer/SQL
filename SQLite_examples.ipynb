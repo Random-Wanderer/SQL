{
 "cells": [
  {
   "cell_type": "markdown",
   "id": "fbe068a6",
   "metadata": {},
   "source": [
    "## Data"
   ]
  },
  {
   "cell_type": "markdown",
   "id": "ff955c05",
   "metadata": {},
   "source": [
    "### Users\n",
    "#### DBeaver sqlite code\n",
    "Selects everything from the users_csv\n",
    "\n",
    "\n",
    "SELECT * \\\n",
    "FROM users_csv us"
   ]
  },
  {
   "cell_type": "markdown",
   "id": "ab13fd5f",
   "metadata": {},
   "source": [
    "|user_id|first_name|last_name|house     |\n",
    "|-------|----------|---------|----------|\n",
    "|1      |Harry     |Potter   |Gryffindor|\n",
    "|2      |Ron       |Wesley   |Gryffindor|\n",
    "|3      |Hermonie  |Granger  |Gryffindor|\n",
    "|4      |Ginny     |Weasley  |Gryffindor|\n",
    "|5      |Draco     |Malfoy   |Slytherin |\n",
    "|6      |Tom       |Riddle   |Slytherin |\n",
    "|7      |Luna      |Lovegood |Ravenclaw |\n",
    "|8      |Cho       |Chang    |Ravenclaw |\n",
    "|9      |Cedric    |Diggory  |Hufflepuff|\n"
   ]
  },
  {
   "cell_type": "markdown",
   "id": "efbb8609",
   "metadata": {},
   "source": [
    "### Follows\n",
    "#### DBeaver sqlite code \n",
    "Select everything from the follows_csv\n",
    "\n",
    "SELECT * \\\n",
    "FROM follows_csv fc "
   ]
  },
  {
   "cell_type": "markdown",
   "id": "e19942e0",
   "metadata": {},
   "source": [
    "|user_id|follows|date      |\n",
    "|-------|-------|----------|\n",
    "|1      |2      |1993-09-01|\n",
    "|2      |1      |1989-01-01|\n",
    "|3      |1      |1993-07-01|\n",
    "|2      |3      |1994-10-10|\n",
    "|3      |2      |1995-03-01|\n",
    "|4      |2      |1988-08-08|\n",
    "|4      |1      |1988-08-08|\n",
    "|1      |4      |1994-04-02|\n",
    "|1      |5      |2000-01-01|\n",
    "|5      |1      |2000-01-02|\n",
    "|5      |6      |1986-01-10|\n",
    "|7      |1      |1990-02-02|\n",
    "|1      |7      |1996-10-01|\n",
    "|1      |8      |1993-09-03|\n",
    "|8      |1      |1995-09-01|\n",
    "|8      |9      |1995-09-01|\n",
    "|9      |8      |1996-01-10|\n",
    "|7      |8      |1993-09-01|\n",
    "|3      |9      |1996-05-30|\n",
    "|4      |9      |1996-05-30|\n"
   ]
  },
  {
   "cell_type": "markdown",
   "id": "ef3fc3f7",
   "metadata": {},
   "source": [
    "### How many users are there in each house?\n",
    "#### DBeaver sqlite code\n",
    "Selected all house values from the users database, then group them by the selected house count\n",
    "\n",
    "SELECT COUNT(uc.user_id), uc.house \\\n",
    "FROM users uc \\\n",
    "GROUP BY uc.house "
   ]
  },
  {
   "cell_type": "markdown",
   "id": "0bba5f95",
   "metadata": {},
   "source": [
    "|COUNT(uc.user_id)|house     |\n",
    "|-----------------|----------|\n",
    "|4                |Gryffindor|\n",
    "|1                |Hufflepuff|\n",
    "|2                |Ravenclaw |\n",
    "|2                |Slytherin |\n"
   ]
  },
  {
   "cell_type": "markdown",
   "id": "5332964b",
   "metadata": {},
   "source": [
    "### List all following links that were created before September 1st, 1993 \n",
    "#### DBeaver sqlite code\n",
    "Select date and follows from follows, then sort for everything before 1993\n",
    "\n",
    "SELECT fc.follows, fc.date \\\n",
    "FROM follows_csv  fc \\\n",
    "WHERE fc.date < '1993-09-01'"
   ]
  },
  {
   "cell_type": "markdown",
   "id": "8bf4059a",
   "metadata": {},
   "source": [
    "|follows|date      |\n",
    "|-------|----------|\n",
    "|1      |1989-01-01|\n",
    "|1      |1993-07-01|\n",
    "|2      |1988-08-08|\n",
    "|1      |1988-08-08|\n",
    "|6      |1986-01-10|\n",
    "|1      |1990-02-02|\n"
   ]
  },
  {
   "cell_type": "markdown",
   "id": "87100ae1",
   "metadata": {},
   "source": [
    "### List all the following links established before September 1st 1993, but this time use the users first names \n",
    "#### DBeaver sqlite code\n",
    "Select necessary columns, join the user data on the follows data by inner join on user_id, then get all before 1993-09-01\n",
    "\n",
    "SELECT uc.user_id, uc.first_name, fc.follows, fc.date \\\n",
    "FROM follows_csv fc \\\n",
    "JOIN users_csv uc on uc.user_id = fc.user_id \\\n",
    "WHERE fc.date < '1993-09-01'"
   ]
  },
  {
   "cell_type": "markdown",
   "id": "e8015e31",
   "metadata": {},
   "source": [
    "|user_id|first_name|follows|date      |\n",
    "|-------|----------|-------|----------|\n",
    "|2      |Ron       |1      |1989-01-01|\n",
    "|3      |Hermonie  |1      |1993-07-01|\n",
    "|4      |Ginny     |2      |1988-08-08|\n",
    "|4      |Ginny     |1      |1988-08-08|\n",
    "|5      |Draco     |6      |1986-01-10|\n",
    "|7      |Luna      |1      |1990-02-02|\n"
   ]
  },
  {
   "cell_type": "markdown",
   "id": "8e96e851",
   "metadata": {},
   "source": [
    "### Give a count of how many people followed each user as of 1999-12-31. Give the result in term of \"users full name, number of followers \n",
    "#### DBeaver sqlite code\n",
    "Select necessary columns, join the user data on the follows data by inner join on user_id, then get all before 1999-12-31 then count followers\n",
    "\n",
    "SELECT uc.user_id, uc.first_name, uc.last_name, COUNT(fc.follows), fc.date \\\n",
    "FROM follows_csv fc \\\n",
    "JOIN users_csv uc on uc.user_id = fc.user_id \\\n",
    "WHERE fc.date < '1999-12-31' \\\n",
    "GROUP BY uc.user_id  "
   ]
  },
  {
   "cell_type": "markdown",
   "id": "ffdff7e1",
   "metadata": {},
   "source": [
    "|user_id|first_name|last_name|COUNT(fc.follows)|date      |\n",
    "|-------|----------|---------|-----------------|----------|\n",
    "|1      |Harry     |Potter   |4                |1993-09-01|\n",
    "|2      |Ron       |Wesley   |2                |1989-01-01|\n",
    "|3      |Hermonie  |Granger  |3                |1993-07-01|\n",
    "|4      |Ginny     |Weasley  |3                |1988-08-08|\n",
    "|5      |Draco     |Malfoy   |1                |1986-01-10|\n",
    "|7      |Luna      |Lovegood |2                |1990-02-02|\n",
    "|8      |Cho       |Chang    |2                |1995-09-01|\n",
    "|9      |Cedric    |Diggory  |1                |1996-01-10|\n"
   ]
  },
  {
   "cell_type": "markdown",
   "id": "f1be7fe0",
   "metadata": {},
   "source": [
    "### List the number of users each user follows \n",
    "#### DBeaver sqlite code\n",
    "Select necessary columns, join the user data on the follows data by inner join on user_id, then count followers\n",
    "\n",
    "SELECT uc.user_id, uc.first_name, uc.last_name, COUNT(fc.follows), fc.date \\\n",
    "FROM follows_csv fc \\\n",
    "JOIN users_csv uc on uc.user_id = fc.user_id \\\n",
    "GROUP BY uc.user_id  "
   ]
  },
  {
   "cell_type": "markdown",
   "id": "3018bf1d",
   "metadata": {},
   "source": [
    "|user_id|first_name|last_name|COUNT(fc.follows)|\n",
    "|-------|----------|---------|-----------------|\n",
    "|1      |Harry     |Potter   |5                |\n",
    "|2      |Ron       |Wesley   |2                |\n",
    "|3      |Hermonie  |Granger  |3                |\n",
    "|4      |Ginny     |Weasley  |3                |\n",
    "|5      |Draco     |Malfoy   |2                |\n",
    "|7      |Luna      |Lovegood |2                |\n",
    "|8      |Cho       |Chang    |2                |\n",
    "|9      |Cedric    |Diggory  |1                |\n"
   ]
  },
  {
   "cell_type": "markdown",
   "id": "c1fce216",
   "metadata": {},
   "source": [
    "### 6.  List all rows from follows where someone from one house follows someone from a different house. Please give the result with user names. "
   ]
  },
  {
   "cell_type": "markdown",
   "id": "60808eda",
   "metadata": {},
   "source": []
  },
  {
   "cell_type": "markdown",
   "id": "835dcc94",
   "metadata": {},
   "source": []
  },
  {
   "cell_type": "markdown",
   "id": "12853f48",
   "metadata": {},
   "source": [
    "### 7. List all unrequited followings (i.e. where A follows B but B does not follow A) Note that how you interpret what the columns should be (first name, user id, full name) is left up to you interpretation. For example, the question doesn't explicitly ask for the houses of each person. Other answers formats would also be acceptable, as long as they represent the same relationships. We define a ​friendship​ as a relationship between two users where both follow each other. The friendship is established when the ​later​ of the two links is established. "
   ]
  },
  {
   "cell_type": "code",
   "execution_count": null,
   "id": "a6fe9950",
   "metadata": {},
   "outputs": [],
   "source": []
  }
 ],
 "metadata": {
  "kernelspec": {
   "display_name": "Python 3 (ipykernel)",
   "language": "python",
   "name": "python3"
  },
  "language_info": {
   "codemirror_mode": {
    "name": "ipython",
    "version": 3
   },
   "file_extension": ".py",
   "mimetype": "text/x-python",
   "name": "python",
   "nbconvert_exporter": "python",
   "pygments_lexer": "ipython3",
   "version": "3.8.12"
  },
  "toc": {
   "base_numbering": 1,
   "nav_menu": {},
   "number_sections": true,
   "sideBar": true,
   "skip_h1_title": false,
   "title_cell": "Table of Contents",
   "title_sidebar": "Contents",
   "toc_cell": false,
   "toc_position": {
    "height": "calc(100% - 180px)",
    "left": "10px",
    "top": "150px",
    "width": "273.4px"
   },
   "toc_section_display": true,
   "toc_window_display": true
  }
 },
 "nbformat": 4,
 "nbformat_minor": 5
}
